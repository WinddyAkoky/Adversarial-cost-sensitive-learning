{
 "cells": [
  {
   "cell_type": "markdown",
   "metadata": {},
   "source": [
    "# 在CIFAR数据集上测试CSE、CSA"
   ]
  },
  {
   "cell_type": "code",
   "execution_count": 1,
   "metadata": {},
   "outputs": [],
   "source": [
    "import torch \n",
    "import numpy as np\n",
    "import os\n",
    "import torchvision.transforms as transforms\n",
    "import torchvision\n",
    "import matplotlib.pyplot as plt\n",
    "import torch.nn as nn\n",
    "from torch.autograd import Variable\n",
    "import torch.nn.functional as F\n",
    "import copy\n",
    "from torch.autograd.gradcheck import zero_gradients\n",
    "from utils import *\n"
   ]
  },
  {
   "cell_type": "code",
   "execution_count": 2,
   "metadata": {},
   "outputs": [],
   "source": [
    "class LeNet(nn.Module):\n",
    "    def __init__(self):\n",
    "        super(LeNet, self).__init__()\n",
    "        self.conv1 = nn.Conv2d(3, 6, kernel_size=5)\n",
    "        self.conv2 = nn.Conv2d(6, 16, kernel_size=5)\n",
    "        self.fc1 = nn.Linear(16*5*5, 120)\n",
    "        self.fc2 = nn.Linear(120, 84)\n",
    "        self.fc3 = nn.Linear(84, 10)\n",
    "\n",
    "    def forward(self, x):\n",
    "        x = f.relu(self.conv1(x))\n",
    "        x = f.max_pool2d(x, 2)\n",
    "        x = f.relu(self.conv2(x))\n",
    "        x = f.max_pool2d(x, 2)\n",
    "        x = x.view(x.size(0), -1)\n",
    "        x = f.relu(self.fc1(x))\n",
    "        x = f.relu(self.fc2(x))\n",
    "        x = self.fc3(x)\n",
    "        return x"
   ]
  },
  {
   "cell_type": "markdown",
   "metadata": {},
   "source": [
    "# FGSM 攻击"
   ]
  },
  {
   "cell_type": "code",
   "execution_count": 3,
   "metadata": {},
   "outputs": [
    {
     "name": "stdout",
     "output_type": "stream",
     "text": [
      "Files already downloaded and verified\n",
      "Files already downloaded and verified\n"
     ]
    }
   ],
   "source": [
    "NORMALIZE = True\n",
    "\n",
    "CLASSES = ('plane', 'car', 'bird', 'cat', 'deer', 'dog', 'frog', 'horse', 'ship', 'truck')\n",
    "DEVICE = torch.device(cuda_num if torch.cuda.is_available() else \"cpu\")\n",
    "batch_size = 64\n",
    "\n",
    "data_home = 'F:\\\\work'\n",
    "\n",
    "if NORMALIZE:\n",
    "    train_transform = transforms.Compose([transforms.ToTensor(),\n",
    "    transforms.Normalize((0.4914, 0.4822, 0.4465), (0.2023, 0.1994, 0.2010))])\n",
    "    test_transform = transforms.Compose([transforms.ToTensor(),\n",
    "    transforms.Normalize((0.4914, 0.4822, 0.4465), (0.2023, 0.1994, 0.2010))])\n",
    "else:\n",
    "    train_transform = transforms.Compose([transforms.ToTensor()])\n",
    "    test_transform = transforms.Compose([transforms.ToTensor()])\n",
    "train_set = torchvision.datasets.CIFAR10(root=os.path.join(data_home, 'dataset/CIFAR10'), train=True, download=True, transform=train_transform)\n",
    "test_set = torchvision.datasets.CIFAR10(root=os.path.join(data_home, 'dataset/CIFAR10'), train=False, download=True, transform=test_transform)\n",
    "\n",
    "train_loader = torch.utils.data.DataLoader(train_set, batch_size=batch_size, shuffle=True, num_workers=2)\n",
    "test_loader = torch.utils.data.DataLoader(test_set, batch_size=batch_size, shuffle=True, num_workers=2)"
   ]
  },
  {
   "cell_type": "code",
   "execution_count": 4,
   "metadata": {},
   "outputs": [],
   "source": [
    "def my_fgsm(input, labels, model, criterion, epsilon, device, c=None):\n",
    "    assert isinstance(model, torch.nn.Module), \"Input parameter model is not nn.Module. Check the model\"\n",
    "    assert isinstance(criterion, torch.nn.Module), \"Input parameter criterion is no Loss. Check the criterion\"\n",
    "    assert (0 <= epsilon <= 1), \"episilon must be 0 <= epsilon <= 1\"\n",
    "\n",
    "    # For calculating gradient\n",
    "    input_for_gradient = Variable(input, requires_grad=True).to(device)\n",
    "    out = model(input_for_gradient)\n",
    "    if c==None:\n",
    "        loss = criterion(out, Variable(labels))\n",
    "    else:\n",
    "        loss = criterion(out, Variable(labels), c)\n",
    "\n",
    "    # Calculate gradient\n",
    "    loss.backward()\n",
    "\n",
    "    # Calculate sign of gradient\n",
    "    signs = torch.sign(input_for_gradient.grad.data)\n",
    "\n",
    "    # Add\n",
    "    input_for_gradient.data = input_for_gradient.data + (epsilon * signs)\n",
    "\n",
    "    return input_for_gradient, signs"
   ]
  },
  {
   "cell_type": "code",
   "execution_count": null,
   "metadata": {},
   "outputs": [],
   "source": [
    "# 记录结果\n",
    "results_infos = {}\n",
    "\n",
    "# 先读取未经过对抗训练的模型\n",
    "# 在进行对抗训练\n",
    "\n",
    "# 参数\n",
    "epsilon_model = 0.3\n",
    "epsilon_attack = 0.3\n",
    "criterion_CSA = Loss_cost_sensitive()\n",
    "\n",
    "\n",
    "# 循环 对每一个类分别进行保护\n",
    "for i_label in range(10):\n",
    "    ################################\n",
    "    # 读取模型\n",
    "    model_CSA = LeNet()\n",
    "    path_model_CSA = '../model/LeNet_CIFAR_adv_cost_sensitive_'+ str(i_label) +'_e'+ str(epsilon_model) +'.pt'\n",
    "    model_CSA.load_state_dict(torch.load(path_model_CSA))\n",
    "    print('load model for initialization: {}'.format(path_model_CSA))\n",
    "    model_CSA = model_CSA.to(DEVICE)\n",
    "    \n",
    "    \n",
    "    C = get_cost_matric(i_label)\n",
    "    C = C.to(DEVICE)\n",
    "    print('protect label: {}'.format(i_label))\n",
    "    print('load cost matric: ')\n",
    "    print(C)\n",
    "    LABEL = 'Protect Label ' + str(i_label)\n",
    "\n",
    "    ## 对 model_CSA 的评估\n",
    "    print('对 model_CSA 的评估')\n",
    "    results_info = {}\n",
    "    model_CSA.eval()\n",
    "    images_targets = {}\n",
    "    for special_index in range(10):\n",
    "        count = 0\n",
    "        correct = 0\n",
    "\n",
    "        for data, target in test_loader:\n",
    "            data = data[target==special_index]\n",
    "            target = target[target==special_index]\n",
    "            if len(data) == 0:\n",
    "                continue\n",
    "\n",
    "            data, target = data.to(DEVICE), target.to(DEVICE)\n",
    "            data, sign = my_fgsm(data, target, model_CSA, criterion_CSA, epsilon, DEVICE, C)\n",
    "            output = model_CSA(data)\n",
    "\n",
    "            pred = output.argmax(dim=1, keepdim=True)\n",
    "            correct += pred.eq(target.view_as(pred)).sum().item()\n",
    "            count += len(data)\n",
    "            print('\\r {}'.format(count), end='')\n",
    "        images_targets[special_index] = [count, correct/count]\n",
    "        print('\\n {} correct: {}'.format(special_index,correct/count))\n",
    "    results_info[1] = images_targets\n",
    "    \n",
    "##################################\n",
    "    ## 对 model_CSE 的评估\n",
    "    print('对 model_CSE 的评估')\n",
    "    # 读取模型\n",
    "    model_CSE = LeNet()\n",
    "    path_model_CSE = ''\n",
    "    model_CSE.load_state_dict(torch.load(path_model_CSE))\n",
    "    print('load model for initialization: {}'.format(path_model_CSE))\n",
    "    model_CSE = model_CSE.to(DEVICE)\n",
    "    criterion_CSE = Loss_CSE(model_CSE)\n",
    "\n",
    "    model_CSE.eval()\n",
    "    images_targets = {}\n",
    "    for special_index in range(10):\n",
    "        count = 0\n",
    "        correct = 0\n",
    "\n",
    "        for data, target in test_loader:\n",
    "            data = data[target==special_index]\n",
    "            target = target[target==special_index]\n",
    "            if len(data) == 0:\n",
    "                continue\n",
    "\n",
    "            data, target = data.to(DEVICE), target.to(DEVICE)\n",
    "            data, sign = my_fgsm(data, target, model_CSE, criterion_CSE, epsilon, DEVICE, C)\n",
    "            output = model_CSE(data)\n",
    "\n",
    "            pred = output.argmax(dim=1, keepdim=True)\n",
    "            correct += pred.eq(target.view_as(pred)).sum().item()\n",
    "            count += len(data)\n",
    "            print('\\r {}'.format(count), end='')\n",
    "        images_targets[special_index] = [count, correct/count]\n",
    "        print('\\n {} correct: {}'.format(special_index,correct/count))\n",
    "    results_info[2] = images_targets\n",
    "    \n",
    "##################################\n",
    "    \n",
    "    # 记录结果\n",
    "    results_infos[i_label] = results_info"
   ]
  },
  {
   "cell_type": "markdown",
   "metadata": {},
   "source": [
    "## 保存"
   ]
  },
  {
   "cell_type": "code",
   "execution_count": null,
   "metadata": {},
   "outputs": [],
   "source": [
    "import pandas as pd\n",
    "output_dirs = './output/CIFAR'\n",
    "if os.path.exists(output_dirs) is False:\n",
    "    os.makedirs(output_dirs)\n",
    "\n",
    "I_avg = {'CSA':[], 'CSE':[]}\n",
    "writer = pd.ExcelWriter(os.path.join(output_dirs, 'CIFAR_FGSM.xlsx'))\n",
    "for i in results_infos.keys():\n",
    "    tmp = results_infos[i]\n",
    "    \n",
    "    I_avg['CSA'].append(tmp[1][i][1])\n",
    "    I_avg['CSE'].append(tmp[2][i][1])\n",
    "    \n",
    "    df  = pd.DataFrame(tmp)\n",
    "    df.columns = ['CSA', 'CSE']\n",
    "    df = pd.DataFrame([df[i].apply(lambda x: x[1]) for i in df.columns])\n",
    "    df = df.sort_index()\n",
    "    \n",
    "    df.to_excel(writer, sheet_name=str(i))\n",
    "writer.save()\n",
    "\n",
    "print('I of CSA: {}'.format(np.mean(I_avg['CSA'])))\n",
    "print('I of CSE: {}'.format(np.mean(I_avg['CSE'])))"
   ]
  },
  {
   "cell_type": "code",
   "execution_count": null,
   "metadata": {},
   "outputs": [],
   "source": []
  },
  {
   "cell_type": "code",
   "execution_count": null,
   "metadata": {},
   "outputs": [],
   "source": []
  },
  {
   "cell_type": "code",
   "execution_count": null,
   "metadata": {},
   "outputs": [],
   "source": []
  },
  {
   "cell_type": "code",
   "execution_count": null,
   "metadata": {},
   "outputs": [],
   "source": []
  },
  {
   "cell_type": "code",
   "execution_count": null,
   "metadata": {},
   "outputs": [],
   "source": []
  },
  {
   "cell_type": "code",
   "execution_count": null,
   "metadata": {},
   "outputs": [],
   "source": []
  },
  {
   "cell_type": "code",
   "execution_count": null,
   "metadata": {},
   "outputs": [],
   "source": []
  },
  {
   "cell_type": "code",
   "execution_count": null,
   "metadata": {},
   "outputs": [],
   "source": []
  },
  {
   "cell_type": "code",
   "execution_count": null,
   "metadata": {},
   "outputs": [],
   "source": []
  },
  {
   "cell_type": "code",
   "execution_count": null,
   "metadata": {},
   "outputs": [],
   "source": []
  },
  {
   "cell_type": "code",
   "execution_count": null,
   "metadata": {},
   "outputs": [],
   "source": []
  }
 ],
 "metadata": {
  "kernelspec": {
   "display_name": "Python 3",
   "language": "python",
   "name": "python3"
  },
  "language_info": {
   "codemirror_mode": {
    "name": "ipython",
    "version": 3
   },
   "file_extension": ".py",
   "mimetype": "text/x-python",
   "name": "python",
   "nbconvert_exporter": "python",
   "pygments_lexer": "ipython3",
   "version": "3.7.0"
  },
  "toc": {
   "base_numbering": 1,
   "nav_menu": {},
   "number_sections": true,
   "sideBar": true,
   "skip_h1_title": false,
   "title_cell": "Table of Contents",
   "title_sidebar": "Contents",
   "toc_cell": false,
   "toc_position": {},
   "toc_section_display": true,
   "toc_window_display": true
  }
 },
 "nbformat": 4,
 "nbformat_minor": 2
}
